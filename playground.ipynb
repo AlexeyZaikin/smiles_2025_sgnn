{
 "cells": [
  {
   "cell_type": "code",
   "execution_count": null,
   "id": "75954c0a",
   "metadata": {},
   "outputs": [],
   "source": [
    "import torch\n",
    "import torch.nn.functional as F\n",
    "import numpy as np\n",
    "import pandas as pd\n",
    "import random\n",
    "from tqdm.auto import tqdm\n",
    "from torch_geometric.data import Data\n",
    "from torch_geometric.loader import DataLoader\n",
    "from sklearn.model_selection import train_test_split\n",
    "from pathlib import Path\n",
    "from torch_geometric.nn import GATv2Conv, global_mean_pool\n",
    "import torch.nn as nn\n",
    "from torch_geometric.nn import GINEConv\n",
    "import logging\n",
    "import os\n",
    "import matplotlib.pyplot as plt\n",
    "from torch.optim.lr_scheduler import ReduceLROnPlateau\n",
    "from datetime import datetime\n",
    "from sklearn.model_selection import ParameterGrid, StratifiedKFold\n",
    "from sklearn.metrics import (\n",
    "    roc_auc_score,\n",
    "    precision_recall_curve,\n",
    "    auc,\n",
    "    confusion_matrix,\n",
    "    classification_report,\n",
    "    f1_score,\n",
    "    precision_score,\n",
    "    recall_score,\n",
    "    roc_curve,\n",
    ")\n",
    "import seaborn as sns\n",
    "import time\n",
    "from collections import defaultdict\n",
    "from torch.utils.tensorboard import SummaryWriter\n",
    "import warnings\n",
    "\n",
    "warnings.filterwarnings(\n",
    "    \"ignore\"\n",
    ")  # \"error\", \"ignore\", \"always\", \"default\", \"module\" or \"once\"\n",
    "\n",
    "seed = 42\n",
    "torch.manual_seed(seed)\n",
    "np.random.seed(seed)\n",
    "random.seed(seed)\n",
    "torch.backends.cudnn.benchmark = False\n",
    "torch.backends.cudnn.deterministic = True"
   ]
  },
  {
   "cell_type": "code",
   "execution_count": null,
   "id": "3c3e65ee",
   "metadata": {},
   "outputs": [],
   "source": [
    "import torch\n",
    "import torch.nn.functional as F\n",
    "import numpy as np\n",
    "import pandas as pd\n",
    "import random\n",
    "from tqdm.auto import tqdm\n",
    "from torch_geometric.data import Data\n",
    "from torch_geometric.loader import DataLoader\n",
    "from torch_geometric.nn import GATv2Conv, GINEConv, global_mean_pool\n",
    "import torch.nn as nn\n",
    "import logging\n",
    "import os\n",
    "import matplotlib.pyplot as plt\n",
    "from torch.optim.lr_scheduler import ReduceLROnPlateau\n",
    "from datetime import datetime\n",
    "from sklearn.model_selection import StratifiedKFold\n",
    "from sklearn.metrics import (\n",
    "    roc_auc_score,\n",
    "    precision_recall_curve,\n",
    "    auc,\n",
    "    confusion_matrix,\n",
    "    classification_report,\n",
    "    f1_score,\n",
    "    precision_score,\n",
    "    recall_score,\n",
    ")\n",
    "import seaborn as sns\n",
    "import time\n",
    "from collections import defaultdict\n",
    "from torch.utils.tensorboard import SummaryWriter\n",
    "import warnings\n",
    "import optuna\n",
    "from optuna.trial import Trial\n",
    "import hydra\n",
    "from hydra.utils import get_original_cwd\n",
    "from omegaconf import DictConfig, OmegaConf\n",
    "from pathlib import Path\n",
    "from typing import Dict, List, Tuple, Any, Optional, Union\n",
    "\n",
    "warnings.filterwarnings(\"ignore\")\n",
    "\n",
    "\n",
    "def objective(\n",
    "    trial: Trial, cfg: DictConfig, full_data: List[Data], log_dir: Path\n",
    ") -> float:\n",
    "    \"\"\"Optuna hyperparameter optimization objective\"\"\"\n",
    "    # Suggest hyperparameters\n",
    "    params = {\n",
    "        \"model\": {\n",
    "            \"hidden_channels\": trial.suggest_categorical(\n",
    "                \"hidden_channels\", cfg.hparams.hidden_channels.options\n",
    "            ),\n",
    "            \"num_layers\": trial.suggest_int(\n",
    "                \"num_layers\", cfg.hparams.num_layers.min, cfg.hparams.num_layers.max\n",
    "            ),\n",
    "            \"dropout\": trial.suggest_float(\n",
    "                \"dropout\", cfg.hparams.dropout.min, cfg.hparams.dropout.max\n",
    "            ),\n",
    "            \"heads\": trial.suggest_int(\n",
    "                \"heads\", cfg.hparams.heads.min, cfg.hparams.heads.max\n",
    "            )\n",
    "            if cfg.model.type == \"GATv2\"\n",
    "            else 1,\n",
    "            \"use_edge_encoders\": trial.suggest_categorical(\n",
    "                \"use_edge_encoders\", [True, False]\n",
    "            ),\n",
    "            \"residual\": trial.suggest_categorical(\"residual\", [True, False]),\n",
    "            \"use_classifier_mlp\": trial.suggest_categorical(\n",
    "                \"use_classifier_mlp\", [True, False]\n",
    "            ),\n",
    "            \"classifier_mlp_dims\": trial.suggest_categorical(\n",
    "                \"classifier_mlp_dims\", cfg.hparams.classifier_mlp_dims.options\n",
    "            ),\n",
    "        },\n",
    "        \"training\": {\n",
    "            \"learning_rate\": trial.suggest_float(\n",
    "                \"learning_rate\",\n",
    "                cfg.hparams.learning_rate.min,\n",
    "                cfg.hparams.learning_rate.max,\n",
    "                log=True,\n",
    "            ),\n",
    "        },\n",
    "    }\n",
    "\n",
    "    # Create trial-specific config\n",
    "    trial_cfg = OmegaConf.merge(cfg, OmegaConf.create(params))\n",
    "\n",
    "    # Set up logging\n",
    "    trial_log_dir = log_dir / f\"trial_{trial.number}\"\n",
    "    trial_log_dir.mkdir(exist_ok=True)\n",
    "    logger, tb_writer = setup_logging(trial_log_dir)\n",
    "\n",
    "    # Cross-validation\n",
    "    cv_scores = []\n",
    "    skf = StratifiedKFold(\n",
    "        n_splits=trial_cfg.training.cv_folds, shuffle=True, random_state=trial_cfg.seed\n",
    "    )\n",
    "    labels = [data.y.item() for data in full_data]\n",
    "\n",
    "    for fold, (train_idx, val_idx) in enumerate(skf.split(full_data, labels)):\n",
    "        fold_log_dir = trial_log_dir / f\"fold_{fold}\"\n",
    "        fold_log_dir.mkdir(exist_ok=True)\n",
    "\n",
    "        # Create data loaders\n",
    "        train_loader = DataLoader(\n",
    "            [full_data[i] for i in train_idx],\n",
    "            batch_size=trial_cfg.training.batch_size,\n",
    "            shuffle=True,\n",
    "            num_workers=os.cpu_count(),\n",
    "            pin_memory=True,\n",
    "        )\n",
    "        val_loader = DataLoader(\n",
    "            [full_data[i] for i in val_idx],\n",
    "            batch_size=trial_cfg.training.batch_size,\n",
    "            num_workers=os.cpu_count(),\n",
    "            pin_memory=True,\n",
    "        )\n",
    "\n",
    "        # Initialize model\n",
    "        model = GNNModel(trial_cfg, in_channels=1, out_channels=2, edge_dim=1).to(\n",
    "            torch.device(trial_cfg.device)\n",
    "        )\n",
    "\n",
    "        # Optimizer and scheduler\n",
    "        optimizer = torch.optim.AdamW(\n",
    "            model.parameters(),\n",
    "            lr=trial_cfg.training.learning_rate,\n",
    "            weight_decay=trial_cfg.training.weight_decay,\n",
    "        )\n",
    "        scheduler = ReduceLROnPlateau(\n",
    "            optimizer,\n",
    "            mode=\"max\",\n",
    "            patience=trial_cfg.training.lr_patience,\n",
    "            factor=trial_cfg.training.lr_factor,\n",
    "        )\n",
    "        criterion = nn.CrossEntropyLoss()\n",
    "\n",
    "        # Trainer setup\n",
    "        trainer = GNNTrainer(trial_cfg, device=trial_cfg.device)\n",
    "\n",
    "        try:\n",
    "            # Training\n",
    "            trainer.train(\n",
    "                model,\n",
    "                train_loader,\n",
    "                val_loader,\n",
    "                optimizer,\n",
    "                criterion,\n",
    "                scheduler,\n",
    "                logger,\n",
    "                tb_writer,\n",
    "                fold_log_dir,\n",
    "            )\n",
    "\n",
    "            # Validation metrics\n",
    "            val_metrics = trainer.evaluate(model, val_loader, criterion)\n",
    "            cv_scores.append(val_metrics[\"roc_auc\"])\n",
    "\n",
    "            # Report intermediate result\n",
    "            trial.report(val_metrics[\"roc_auc\"], fold)\n",
    "\n",
    "            # Handle pruning\n",
    "            if trial.should_prune():\n",
    "                raise optuna.TrialPruned()\n",
    "\n",
    "        except Exception as e:\n",
    "            logger.error(f\"Training failed: {str(e)}\")\n",
    "            cv_scores.append(0.0)\n",
    "\n",
    "    # Clean up\n",
    "    tb_writer.close()\n",
    "    return np.mean(cv_scores)\n",
    "\n",
    "\n",
    "@hydra.main(config_path=\"conf\", config_name=\"config\", version_base=\"1.3\")\n",
    "def main(cfg: DictConfig) -> None:\n",
    "    \"\"\"Main experiment runner with Hydra configuration\"\"\"\n",
    "    # Initialize output directory\n",
    "    base_dir = Path.cwd()\n",
    "    timestamp = datetime.now().strftime(\"%Y%m%d_%H%M%S\")\n",
    "\n",
    "    # Load datasets\n",
    "    all_data = cfg.datasets\n",
    "\n",
    "    for dataset_name, data in all_data.items():\n",
    "        dataset_dir = base_dir / dataset_name\n",
    "        dataset_dir.mkdir(exist_ok=True)\n",
    "\n",
    "        # Prepare data\n",
    "        train_data = data.train\n",
    "        test_data = data.test\n",
    "        full_data = train_data  # For cross-validation\n",
    "\n",
    "        for model_type in cfg.model.types:\n",
    "            model_dir = dataset_dir / model_type\n",
    "            model_dir.mkdir(exist_ok=True)\n",
    "\n",
    "            for activation in cfg.model.activations:\n",
    "                exp_dir = model_dir / activation\n",
    "                exp_dir.mkdir(exist_ok=True)\n",
    "\n",
    "                # Set up logging\n",
    "                logger, tb_writer = setup_logging(exp_dir)\n",
    "                logger.info(\n",
    "                    f\"Starting experiment: {dataset_name}/{model_type}/{activation}\"\n",
    "                )\n",
    "\n",
    "                # Update config for current experiment\n",
    "                cfg.model.type = model_type\n",
    "                cfg.model.activation = activation\n",
    "\n",
    "                # Optuna hyperparameter optimization\n",
    "                study = optuna.create_study(\n",
    "                    direction=\"maximize\",\n",
    "                    sampler=optuna.samplers.TPESampler(seed=cfg.seed),\n",
    "                    pruner=optuna.pruners.MedianPruner(\n",
    "                        n_startup_trials=cfg.optuna.n_startup_trials,\n",
    "                        n_warmup_steps=cfg.optuna.n_warmup_steps,\n",
    "                    ),\n",
    "                )\n",
    "\n",
    "                study.optimize(\n",
    "                    lambda trial: objective(trial, cfg, full_data, exp_dir),\n",
    "                    n_trials=cfg.optuna.n_trials,\n",
    "                    timeout=cfg.optuna.timeout,\n",
    "                    show_progress_bar=True,\n",
    "                )\n",
    "\n",
    "                # Save best parameters\n",
    "                best_params = study.best_params\n",
    "                logger.info(f\"Best parameters: {best_params}\")\n",
    "                logger.info(f\"Best ROC-AUC: {study.best_value:.4f}\")\n",
    "\n",
    "                # Final training with best parameters\n",
    "                cfg.model.update(best_params.get(\"model\", {}))\n",
    "                cfg.training.update(best_params.get(\"training\", {}))\n",
    "\n",
    "                # Data loaders\n",
    "                train_loader = DataLoader(\n",
    "                    train_data,\n",
    "                    batch_size=cfg.training.batch_size,\n",
    "                    shuffle=True,\n",
    "                    num_workers=os.cpu_count(),\n",
    "                    pin_memory=True,\n",
    "                )\n",
    "                test_loader = DataLoader(\n",
    "                    test_data,\n",
    "                    batch_size=cfg.training.batch_size,\n",
    "                    num_workers=os.cpu_count(),\n",
    "                    pin_memory=True,\n",
    "                )\n",
    "\n",
    "                # Initialize model\n",
    "                model = GNNModel(cfg, in_channels=1, out_channels=2, edge_dim=1).to(\n",
    "                    torch.device(cfg.device)\n",
    "                )\n",
    "\n",
    "                # Optimizer and scheduler\n",
    "                optimizer = torch.optim.AdamW(\n",
    "                    model.parameters(),\n",
    "                    lr=cfg.training.learning_rate,\n",
    "                    weight_decay=cfg.training.weight_decay,\n",
    "                )\n",
    "                scheduler = ReduceLROnPlateau(\n",
    "                    optimizer,\n",
    "                    mode=\"max\",\n",
    "                    patience=cfg.training.lr_patience,\n",
    "                    factor=cfg.training.lr_factor,\n",
    "                )\n",
    "                criterion = nn.CrossEntropyLoss()\n",
    "\n",
    "                # Train final model\n",
    "                trainer = GNNTrainer(cfg, device=cfg.device)\n",
    "                history, model = trainer.train(\n",
    "                    model,\n",
    "                    train_loader,\n",
    "                    test_loader,  # Using test as validation for final training\n",
    "                    optimizer,\n",
    "                    criterion,\n",
    "                    scheduler,\n",
    "                    logger,\n",
    "                    tb_writer,\n",
    "                    exp_dir,\n",
    "                )\n",
    "\n",
    "                # Final evaluation\n",
    "                test_metrics = trainer.evaluate(model, test_loader, criterion)\n",
    "\n",
    "                # Log results\n",
    "                logger.info(f\"\\n{'=' * 50}\")\n",
    "                logger.info(f\"FINAL RESULTS: {dataset_name}/{model_type}/{activation}\")\n",
    "                logger.info(f\"Test ROC-AUC: {test_metrics['roc_auc']:.4f}\")\n",
    "                logger.info(f\"Test F1: {test_metrics['f1']:.4f}\")\n",
    "                logger.info(f\"Test Accuracy: {test_metrics['accuracy']:.4f}\")\n",
    "                logger.info(f\"Test PR-AUC: {test_metrics['pr_auc']:.4f}\")\n",
    "                logger.info(\"\\nClassification Report:\")\n",
    "                logger.info(\n",
    "                    classification_report(\n",
    "                        test_metrics[\"classification_report\"][\"0\"],\n",
    "                        test_metrics[\"classification_report\"][\"1\"],\n",
    "                        target_names=[\"Class 0\", \"Class 1\"],\n",
    "                    )\n",
    "                )\n",
    "                logger.info(\"=\" * 50)\n",
    "\n",
    "                # Visualizations\n",
    "                plot_metrics(history, exp_dir)\n",
    "\n",
    "                # Save confusion matrix\n",
    "                plt.figure(figsize=(8, 6))\n",
    "                sns.heatmap(\n",
    "                    test_metrics[\"confusion_matrix\"], annot=True, fmt=\"d\", cmap=\"Blues\"\n",
    "                )\n",
    "                plt.title(\"Confusion Matrix\")\n",
    "                plt.savefig(exp_dir / \"confusion_matrix.png\")\n",
    "                plt.close()\n",
    "\n",
    "                # Close resources\n",
    "                tb_writer.close()\n",
    "\n",
    "\n",
    "if __name__ == \"__main__\":\n",
    "    main()"
   ]
  },
  {
   "cell_type": "code",
   "execution_count": 5,
   "id": "cd84cdeb",
   "metadata": {},
   "outputs": [
    {
     "data": {
      "application/vnd.jupyter.widget-view+json": {
       "model_id": "3dbd78b998184a4285f9eeebc6435fcc",
       "version_major": 2,
       "version_minor": 0
      },
      "text/plain": [
       "  0%|          | 0/15 [00:00<?, ?it/s]"
      ]
     },
     "metadata": {},
     "output_type": "display_data"
    },
    {
     "data": {
      "application/vnd.jupyter.widget-view+json": {
       "model_id": "03c637f579884ea0b9000abb2872e0ea",
       "version_major": 2,
       "version_minor": 0
      },
      "text/plain": [
       "experiment: GATv2 with leaky_relu activation:   0%|          | 0/128 [00:00<?, ?it/s]"
      ]
     },
     "metadata": {},
     "output_type": "display_data"
    },
    {
     "name": "stderr",
     "output_type": "stream",
     "text": [
      "2025-07-23 10:52:47,066 - Ionoshp_GATv2_leaky_relu_final - INFO - \n",
      "==================================================\n",
      "2025-07-23 10:52:47,067 - Ionoshp_GATv2_leaky_relu_final - INFO - FINAL RESULTS: GATv2 with leaky_relu\n",
      "2025-07-23 10:52:47,067 - Ionoshp_GATv2_leaky_relu_final - INFO - Test ROC-AUC: 0.9939\n",
      "2025-07-23 10:52:47,067 - Ionoshp_GATv2_leaky_relu_final - INFO - Test F1: 0.7931\n",
      "2025-07-23 10:52:47,068 - Ionoshp_GATv2_leaky_relu_final - INFO - Test Accuracy: 0.6620\n",
      "2025-07-23 10:52:47,068 - Ionoshp_GATv2_leaky_relu_final - INFO - Test PR-AUC: 0.9965\n",
      "2025-07-23 10:52:47,068 - Ionoshp_GATv2_leaky_relu_final - INFO - \n",
      "Classification Report:\n",
      "2025-07-23 10:52:47,068 - Ionoshp_GATv2_leaky_relu_final - INFO - {'False': {'precision': 1.0, 'recall': 0.04, 'f1-score': 0.07692307692307693, 'support': 25.0}, 'True': {'precision': 0.6571428571428571, 'recall': 1.0, 'f1-score': 0.7931034482758621, 'support': 46.0}, 'accuracy': 0.6619718309859155, 'macro avg': {'precision': 0.8285714285714285, 'recall': 0.52, 'f1-score': 0.4350132625994695, 'support': 71.0}, 'weighted avg': {'precision': 0.7778672032193159, 'recall': 0.6619718309859155, 'f1-score': 0.5409272611798109, 'support': 71.0}}\n",
      "2025-07-23 10:52:47,069 - Ionoshp_GATv2_leaky_relu_final - INFO - ==================================================\n"
     ]
    },
    {
     "data": {
      "application/vnd.jupyter.widget-view+json": {
       "model_id": "951f8e0380b44070b4e5a48b157543c6",
       "version_major": 2,
       "version_minor": 0
      },
      "text/plain": [
       "experiment: GINE with leaky_relu activation:   0%|          | 0/128 [00:00<?, ?it/s]"
      ]
     },
     "metadata": {},
     "output_type": "display_data"
    },
    {
     "name": "stderr",
     "output_type": "stream",
     "text": [
      "2025-07-23 11:03:13,754 - Ionoshp_GINE_leaky_relu_final - INFO - \n",
      "==================================================\n",
      "2025-07-23 11:03:13,754 - Ionoshp_GINE_leaky_relu_final - INFO - FINAL RESULTS: GINE with leaky_relu\n",
      "2025-07-23 11:03:13,754 - Ionoshp_GINE_leaky_relu_final - INFO - Test ROC-AUC: 0.9852\n",
      "2025-07-23 11:03:13,754 - Ionoshp_GINE_leaky_relu_final - INFO - Test F1: 0.9783\n",
      "2025-07-23 11:03:13,755 - Ionoshp_GINE_leaky_relu_final - INFO - Test Accuracy: 0.9718\n",
      "2025-07-23 11:03:13,755 - Ionoshp_GINE_leaky_relu_final - INFO - Test PR-AUC: 0.9902\n",
      "2025-07-23 11:03:13,755 - Ionoshp_GINE_leaky_relu_final - INFO - \n",
      "Classification Report:\n",
      "2025-07-23 11:03:13,755 - Ionoshp_GINE_leaky_relu_final - INFO - {'False': {'precision': 0.96, 'recall': 0.96, 'f1-score': 0.96, 'support': 25.0}, 'True': {'precision': 0.9782608695652174, 'recall': 0.9782608695652174, 'f1-score': 0.9782608695652174, 'support': 46.0}, 'accuracy': 0.971830985915493, 'macro avg': {'precision': 0.9691304347826086, 'recall': 0.9691304347826086, 'f1-score': 0.9691304347826086, 'support': 71.0}, 'weighted avg': {'precision': 0.971830985915493, 'recall': 0.971830985915493, 'f1-score': 0.971830985915493, 'support': 71.0}}\n",
      "2025-07-23 11:03:13,755 - Ionoshp_GINE_leaky_relu_final - INFO - ==================================================\n"
     ]
    },
    {
     "data": {
      "application/vnd.jupyter.widget-view+json": {
       "model_id": "5c5052cf4c764b12bfabe5cbc0525205",
       "version_major": 2,
       "version_minor": 0
      },
      "text/plain": [
       "experiment: GATv2 with tanh activation:   0%|          | 0/128 [00:00<?, ?it/s]"
      ]
     },
     "metadata": {},
     "output_type": "display_data"
    },
    {
     "name": "stderr",
     "output_type": "stream",
     "text": [
      "2025-07-23 11:35:01,505 - Ionoshp_GATv2_tanh_final - INFO - \n",
      "==================================================\n",
      "2025-07-23 11:35:01,505 - Ionoshp_GATv2_tanh_final - INFO - FINAL RESULTS: GATv2 with tanh\n",
      "2025-07-23 11:35:01,505 - Ionoshp_GATv2_tanh_final - INFO - Test ROC-AUC: 0.9939\n",
      "2025-07-23 11:35:01,506 - Ionoshp_GATv2_tanh_final - INFO - Test F1: 0.9020\n",
      "2025-07-23 11:35:01,506 - Ionoshp_GATv2_tanh_final - INFO - Test Accuracy: 0.8592\n",
      "2025-07-23 11:35:01,506 - Ionoshp_GATv2_tanh_final - INFO - Test PR-AUC: 0.9965\n",
      "2025-07-23 11:35:01,506 - Ionoshp_GATv2_tanh_final - INFO - \n",
      "Classification Report:\n",
      "2025-07-23 11:35:01,507 - Ionoshp_GATv2_tanh_final - INFO - {'False': {'precision': 1.0, 'recall': 0.6, 'f1-score': 0.75, 'support': 25.0}, 'True': {'precision': 0.8214285714285714, 'recall': 1.0, 'f1-score': 0.9019607843137255, 'support': 46.0}, 'accuracy': 0.8591549295774648, 'macro avg': {'precision': 0.9107142857142857, 'recall': 0.8, 'f1-score': 0.8259803921568627, 'support': 71.0}, 'weighted avg': {'precision': 0.8843058350100603, 'recall': 0.8591549295774648, 'f1-score': 0.8484534658933996, 'support': 71.0}}\n",
      "2025-07-23 11:35:01,507 - Ionoshp_GATv2_tanh_final - INFO - ==================================================\n"
     ]
    },
    {
     "data": {
      "application/vnd.jupyter.widget-view+json": {
       "model_id": "7784ec38061e4c739db5432cd3518741",
       "version_major": 2,
       "version_minor": 0
      },
      "text/plain": [
       "experiment: GINE with tanh activation:   0%|          | 0/128 [00:00<?, ?it/s]"
      ]
     },
     "metadata": {},
     "output_type": "display_data"
    },
    {
     "name": "stderr",
     "output_type": "stream",
     "text": [
      "2025-07-23 11:44:16,524 - Ionoshp_GINE_tanh_final - INFO - \n",
      "==================================================\n",
      "2025-07-23 11:44:16,525 - Ionoshp_GINE_tanh_final - INFO - FINAL RESULTS: GINE with tanh\n",
      "2025-07-23 11:44:16,525 - Ionoshp_GINE_tanh_final - INFO - Test ROC-AUC: 0.9870\n",
      "2025-07-23 11:44:16,525 - Ionoshp_GINE_tanh_final - INFO - Test F1: 0.7863\n",
      "2025-07-23 11:44:16,525 - Ionoshp_GINE_tanh_final - INFO - Test Accuracy: 0.6479\n",
      "2025-07-23 11:44:16,526 - Ionoshp_GINE_tanh_final - INFO - Test PR-AUC: 0.9916\n",
      "2025-07-23 11:44:16,526 - Ionoshp_GINE_tanh_final - INFO - \n",
      "Classification Report:\n",
      "2025-07-23 11:44:16,526 - Ionoshp_GINE_tanh_final - INFO - {'False': {'precision': 0.0, 'recall': 0.0, 'f1-score': 0.0, 'support': 25.0}, 'True': {'precision': 0.647887323943662, 'recall': 1.0, 'f1-score': 0.7863247863247863, 'support': 46.0}, 'accuracy': 0.647887323943662, 'macro avg': {'precision': 0.323943661971831, 'recall': 0.5, 'f1-score': 0.39316239316239315, 'support': 71.0}, 'weighted avg': {'precision': 0.4197579845268796, 'recall': 0.647887323943662, 'f1-score': 0.5094498615625376, 'support': 71.0}}\n",
      "2025-07-23 11:44:16,526 - Ionoshp_GINE_tanh_final - INFO - ==================================================\n"
     ]
    },
    {
     "data": {
      "application/vnd.jupyter.widget-view+json": {
       "model_id": "86b30945970f46879191d574a35f52c7",
       "version_major": 2,
       "version_minor": 0
      },
      "text/plain": [
       "experiment: GATv2 with leaky_relu activation:   0%|          | 0/128 [00:00<?, ?it/s]"
      ]
     },
     "metadata": {},
     "output_type": "display_data"
    },
    {
     "name": "stderr",
     "output_type": "stream",
     "text": [
      "2025-07-23 11:51:34,586 - Cryotherapy_GATv2_leaky_relu_final - INFO - \n",
      "==================================================\n",
      "2025-07-23 11:51:34,587 - Cryotherapy_GATv2_leaky_relu_final - INFO - FINAL RESULTS: GATv2 with leaky_relu\n",
      "2025-07-23 11:51:34,587 - Cryotherapy_GATv2_leaky_relu_final - INFO - Test ROC-AUC: 0.8750\n",
      "2025-07-23 11:51:34,587 - Cryotherapy_GATv2_leaky_relu_final - INFO - Test F1: 0.4615\n",
      "2025-07-23 11:51:34,588 - Cryotherapy_GATv2_leaky_relu_final - INFO - Test Accuracy: 0.6111\n",
      "2025-07-23 11:51:34,588 - Cryotherapy_GATv2_leaky_relu_final - INFO - Test PR-AUC: 0.9292\n",
      "2025-07-23 11:51:34,588 - Cryotherapy_GATv2_leaky_relu_final - INFO - \n",
      "Classification Report:\n",
      "2025-07-23 11:51:34,589 - Cryotherapy_GATv2_leaky_relu_final - INFO - {'False': {'precision': 0.5333333333333333, 'recall': 1.0, 'f1-score': 0.6956521739130435, 'support': 8.0}, 'True': {'precision': 1.0, 'recall': 0.3, 'f1-score': 0.46153846153846156, 'support': 10.0}, 'accuracy': 0.6111111111111112, 'macro avg': {'precision': 0.7666666666666666, 'recall': 0.65, 'f1-score': 0.5785953177257526, 'support': 18.0}, 'weighted avg': {'precision': 0.7925925925925925, 'recall': 0.6111111111111112, 'f1-score': 0.5655890003716091, 'support': 18.0}}\n",
      "2025-07-23 11:51:34,589 - Cryotherapy_GATv2_leaky_relu_final - INFO - ==================================================\n"
     ]
    },
    {
     "data": {
      "application/vnd.jupyter.widget-view+json": {
       "model_id": "1034b7c29a1c418680d1490066d024b0",
       "version_major": 2,
       "version_minor": 0
      },
      "text/plain": [
       "experiment: GINE with leaky_relu activation:   0%|          | 0/128 [00:00<?, ?it/s]"
      ]
     },
     "metadata": {},
     "output_type": "display_data"
    },
    {
     "name": "stderr",
     "output_type": "stream",
     "text": [
      "2025-07-23 11:54:03,715 - Cryotherapy_GINE_leaky_relu_final - INFO - \n",
      "==================================================\n",
      "2025-07-23 11:54:03,715 - Cryotherapy_GINE_leaky_relu_final - INFO - FINAL RESULTS: GINE with leaky_relu\n",
      "2025-07-23 11:54:03,715 - Cryotherapy_GINE_leaky_relu_final - INFO - Test ROC-AUC: 0.9000\n",
      "2025-07-23 11:54:03,716 - Cryotherapy_GINE_leaky_relu_final - INFO - Test F1: 0.0000\n",
      "2025-07-23 11:54:03,716 - Cryotherapy_GINE_leaky_relu_final - INFO - Test Accuracy: 0.4444\n",
      "2025-07-23 11:54:03,716 - Cryotherapy_GINE_leaky_relu_final - INFO - Test PR-AUC: 0.9064\n",
      "2025-07-23 11:54:03,716 - Cryotherapy_GINE_leaky_relu_final - INFO - \n",
      "Classification Report:\n",
      "2025-07-23 11:54:03,716 - Cryotherapy_GINE_leaky_relu_final - INFO - {'False': {'precision': 0.4444444444444444, 'recall': 1.0, 'f1-score': 0.6153846153846154, 'support': 8.0}, 'True': {'precision': 0.0, 'recall': 0.0, 'f1-score': 0.0, 'support': 10.0}, 'accuracy': 0.4444444444444444, 'macro avg': {'precision': 0.2222222222222222, 'recall': 0.5, 'f1-score': 0.3076923076923077, 'support': 18.0}, 'weighted avg': {'precision': 0.19753086419753085, 'recall': 0.4444444444444444, 'f1-score': 0.27350427350427353, 'support': 18.0}}\n",
      "2025-07-23 11:54:03,717 - Cryotherapy_GINE_leaky_relu_final - INFO - ==================================================\n"
     ]
    },
    {
     "data": {
      "application/vnd.jupyter.widget-view+json": {
       "model_id": "645f2f5a6f874165b2e73fa155c09c8b",
       "version_major": 2,
       "version_minor": 0
      },
      "text/plain": [
       "experiment: GATv2 with tanh activation:   0%|          | 0/128 [00:00<?, ?it/s]"
      ]
     },
     "metadata": {},
     "output_type": "display_data"
    },
    {
     "name": "stderr",
     "output_type": "stream",
     "text": [
      "2025-07-23 12:02:32,734 - Cryotherapy_GATv2_tanh_final - INFO - \n",
      "==================================================\n",
      "2025-07-23 12:02:32,734 - Cryotherapy_GATv2_tanh_final - INFO - FINAL RESULTS: GATv2 with tanh\n",
      "2025-07-23 12:02:32,734 - Cryotherapy_GATv2_tanh_final - INFO - Test ROC-AUC: 0.9125\n",
      "2025-07-23 12:02:32,735 - Cryotherapy_GATv2_tanh_final - INFO - Test F1: 0.7143\n",
      "2025-07-23 12:02:32,735 - Cryotherapy_GATv2_tanh_final - INFO - Test Accuracy: 0.5556\n",
      "2025-07-23 12:02:32,735 - Cryotherapy_GATv2_tanh_final - INFO - Test PR-AUC: 0.9247\n",
      "2025-07-23 12:02:32,735 - Cryotherapy_GATv2_tanh_final - INFO - \n",
      "Classification Report:\n",
      "2025-07-23 12:02:32,736 - Cryotherapy_GATv2_tanh_final - INFO - {'False': {'precision': 0.0, 'recall': 0.0, 'f1-score': 0.0, 'support': 8.0}, 'True': {'precision': 0.5555555555555556, 'recall': 1.0, 'f1-score': 0.7142857142857143, 'support': 10.0}, 'accuracy': 0.5555555555555556, 'macro avg': {'precision': 0.2777777777777778, 'recall': 0.5, 'f1-score': 0.35714285714285715, 'support': 18.0}, 'weighted avg': {'precision': 0.30864197530864196, 'recall': 0.5555555555555556, 'f1-score': 0.39682539682539686, 'support': 18.0}}\n",
      "2025-07-23 12:02:32,736 - Cryotherapy_GATv2_tanh_final - INFO - ==================================================\n"
     ]
    },
    {
     "data": {
      "application/vnd.jupyter.widget-view+json": {
       "model_id": "3bb4f34bc0fd4d29a3402b580318f2c1",
       "version_major": 2,
       "version_minor": 0
      },
      "text/plain": [
       "experiment: GINE with tanh activation:   0%|          | 0/128 [00:00<?, ?it/s]"
      ]
     },
     "metadata": {},
     "output_type": "display_data"
    },
    {
     "name": "stderr",
     "output_type": "stream",
     "text": [
      "2025-07-23 12:05:23,626 - Cryotherapy_GINE_tanh_final - INFO - \n",
      "==================================================\n",
      "2025-07-23 12:05:23,626 - Cryotherapy_GINE_tanh_final - INFO - FINAL RESULTS: GINE with tanh\n",
      "2025-07-23 12:05:23,626 - Cryotherapy_GINE_tanh_final - INFO - Test ROC-AUC: 0.9750\n",
      "2025-07-23 12:05:23,627 - Cryotherapy_GINE_tanh_final - INFO - Test F1: 0.0000\n",
      "2025-07-23 12:05:23,627 - Cryotherapy_GINE_tanh_final - INFO - Test Accuracy: 0.4444\n",
      "2025-07-23 12:05:23,627 - Cryotherapy_GINE_tanh_final - INFO - Test PR-AUC: 0.9826\n",
      "2025-07-23 12:05:23,627 - Cryotherapy_GINE_tanh_final - INFO - \n",
      "Classification Report:\n",
      "2025-07-23 12:05:23,628 - Cryotherapy_GINE_tanh_final - INFO - {'False': {'precision': 0.4444444444444444, 'recall': 1.0, 'f1-score': 0.6153846153846154, 'support': 8.0}, 'True': {'precision': 0.0, 'recall': 0.0, 'f1-score': 0.0, 'support': 10.0}, 'accuracy': 0.4444444444444444, 'macro avg': {'precision': 0.2222222222222222, 'recall': 0.5, 'f1-score': 0.3076923076923077, 'support': 18.0}, 'weighted avg': {'precision': 0.19753086419753085, 'recall': 0.4444444444444444, 'f1-score': 0.27350427350427353, 'support': 18.0}}\n",
      "2025-07-23 12:05:23,628 - Cryotherapy_GINE_tanh_final - INFO - ==================================================\n"
     ]
    },
    {
     "data": {
      "application/vnd.jupyter.widget-view+json": {
       "model_id": "fb962a6288a8457789a4ce9a1ba7655c",
       "version_major": 2,
       "version_minor": 0
      },
      "text/plain": [
       "experiment: GATv2 with leaky_relu activation:   0%|          | 0/128 [00:00<?, ?it/s]"
      ]
     },
     "metadata": {},
     "output_type": "display_data"
    },
    {
     "ename": "KeyboardInterrupt",
     "evalue": "",
     "output_type": "error",
     "traceback": [
      "\u001b[31m---------------------------------------------------------------------------\u001b[39m",
      "\u001b[31mKeyboardInterrupt\u001b[39m                         Traceback (most recent call last)",
      "\u001b[36mCell\u001b[39m\u001b[36m \u001b[39m\u001b[32mIn[5]\u001b[39m\u001b[32m, line 1\u001b[39m\n\u001b[32m----> \u001b[39m\u001b[32m1\u001b[39m \u001b[43mrun_experiments\u001b[49m\u001b[43m(\u001b[49m\u001b[43mdatasets\u001b[49m\u001b[43m,\u001b[49m\u001b[43m \u001b[49m\u001b[43mall_data\u001b[49m\u001b[43m)\u001b[49m\n",
      "\u001b[36mCell\u001b[39m\u001b[36m \u001b[39m\u001b[32mIn[4]\u001b[39m\u001b[32m, line 516\u001b[39m, in \u001b[36mrun_experiments\u001b[39m\u001b[34m(datasets, all_data)\u001b[39m\n\u001b[32m    514\u001b[39m \u001b[38;5;66;03m# Training\u001b[39;00m\n\u001b[32m    515\u001b[39m \u001b[38;5;28;01mtry\u001b[39;00m:\n\u001b[32m--> \u001b[39m\u001b[32m516\u001b[39m     history, model = \u001b[43mtrainer\u001b[49m\u001b[43m.\u001b[49m\u001b[43mtrain\u001b[49m\u001b[43m(\u001b[49m\n\u001b[32m    517\u001b[39m \u001b[43m        \u001b[49m\u001b[43mmodel\u001b[49m\u001b[43m,\u001b[49m\n\u001b[32m    518\u001b[39m \u001b[43m        \u001b[49m\u001b[43mtrain_loader\u001b[49m\u001b[43m,\u001b[49m\n\u001b[32m    519\u001b[39m \u001b[43m        \u001b[49m\u001b[43mval_loader\u001b[49m\u001b[43m,\u001b[49m\n\u001b[32m    520\u001b[39m \u001b[43m        \u001b[49m\u001b[43moptimizer\u001b[49m\u001b[43m,\u001b[49m\n\u001b[32m    521\u001b[39m \u001b[43m        \u001b[49m\u001b[43mcriterion\u001b[49m\u001b[43m,\u001b[49m\n\u001b[32m    522\u001b[39m \u001b[43m        \u001b[49m\u001b[43mscheduler\u001b[49m\u001b[43m,\u001b[49m\n\u001b[32m    523\u001b[39m \u001b[43m        \u001b[49m\u001b[43mepochs\u001b[49m\u001b[43m=\u001b[49m\u001b[32;43m1024\u001b[39;49m\u001b[43m,\u001b[49m\n\u001b[32m    524\u001b[39m \u001b[43m        \u001b[49m\u001b[43mlogger\u001b[49m\u001b[43m=\u001b[49m\u001b[43mlogger\u001b[49m\u001b[43m,\u001b[49m\n\u001b[32m    525\u001b[39m \u001b[43m        \u001b[49m\u001b[43mtb_writer\u001b[49m\u001b[43m=\u001b[49m\u001b[43mtb_writer\u001b[49m\u001b[43m,\u001b[49m\n\u001b[32m    526\u001b[39m \u001b[43m        \u001b[49m\u001b[43mlog_dir\u001b[49m\u001b[43m=\u001b[49m\u001b[43mlog_dir\u001b[49m\u001b[43m,\u001b[49m\n\u001b[32m    527\u001b[39m \u001b[43m        \u001b[49m\u001b[43mpatience\u001b[49m\u001b[43m=\u001b[49m\u001b[32;43m32\u001b[39;49m\u001b[43m,\u001b[49m\n\u001b[32m    528\u001b[39m \u001b[43m    \u001b[49m\u001b[43m)\u001b[49m\n\u001b[32m    530\u001b[39m     \u001b[38;5;66;03m# Final validation score\u001b[39;00m\n\u001b[32m    531\u001b[39m     val_metrics = trainer.evaluate(model, val_loader, criterion)\n",
      "\u001b[36mCell\u001b[39m\u001b[36m \u001b[39m\u001b[32mIn[4]\u001b[39m\u001b[32m, line 294\u001b[39m, in \u001b[36mGNNTrainer.train\u001b[39m\u001b[34m(self, model, train_loader, val_loader, optimizer, criterion, scheduler, epochs, logger, tb_writer, log_dir, patience)\u001b[39m\n\u001b[32m    289\u001b[39m train_metrics = \u001b[38;5;28mself\u001b[39m._compute_metrics(\n\u001b[32m    290\u001b[39m     train_probs, train_probs.argmax(dim=\u001b[32m1\u001b[39m), train_labels\n\u001b[32m    291\u001b[39m )\n\u001b[32m    293\u001b[39m \u001b[38;5;66;03m# Validation\u001b[39;00m\n\u001b[32m--> \u001b[39m\u001b[32m294\u001b[39m val_metrics = \u001b[38;5;28;43mself\u001b[39;49m\u001b[43m.\u001b[49m\u001b[43mevaluate\u001b[49m\u001b[43m(\u001b[49m\u001b[43mmodel\u001b[49m\u001b[43m,\u001b[49m\u001b[43m \u001b[49m\u001b[43mval_loader\u001b[49m\u001b[43m,\u001b[49m\u001b[43m \u001b[49m\u001b[43mcriterion\u001b[49m\u001b[43m)\u001b[49m\n\u001b[32m    296\u001b[39m \u001b[38;5;66;03m# Update scheduler\u001b[39;00m\n\u001b[32m    297\u001b[39m scheduler.step(val_metrics[\u001b[33m\"\u001b[39m\u001b[33mroc_auc\u001b[39m\u001b[33m\"\u001b[39m])\n",
      "\u001b[36mCell\u001b[39m\u001b[36m \u001b[39m\u001b[32mIn[4]\u001b[39m\u001b[32m, line 205\u001b[39m, in \u001b[36mGNNTrainer.evaluate\u001b[39m\u001b[34m(self, model, loader, criterion)\u001b[39m\n\u001b[32m    203\u001b[39m \u001b[38;5;28;01mwith\u001b[39;00m torch.no_grad():\n\u001b[32m    204\u001b[39m     \u001b[38;5;28;01mfor\u001b[39;00m batch \u001b[38;5;129;01min\u001b[39;00m loader:\n\u001b[32m--> \u001b[39m\u001b[32m205\u001b[39m         batch = \u001b[43mbatch\u001b[49m\u001b[43m.\u001b[49m\u001b[43mto\u001b[49m\u001b[43m(\u001b[49m\u001b[38;5;28;43mself\u001b[39;49m\u001b[43m.\u001b[49m\u001b[43mdevice\u001b[49m\u001b[43m)\u001b[49m\n\u001b[32m    206\u001b[39m         out = model(batch)\n\u001b[32m    207\u001b[39m         loss = criterion(out, batch.y.long())\n",
      "\u001b[36mFile \u001b[39m\u001b[32m~/dev/smiles_project/.venv/lib/python3.13/site-packages/torch_geometric/data/data.py:362\u001b[39m, in \u001b[36mBaseData.to\u001b[39m\u001b[34m(self, device, non_blocking, *args)\u001b[39m\n\u001b[32m    357\u001b[39m \u001b[38;5;28;01mdef\u001b[39;00m\u001b[38;5;250m \u001b[39m\u001b[34mto\u001b[39m(\u001b[38;5;28mself\u001b[39m, device: Union[\u001b[38;5;28mint\u001b[39m, \u001b[38;5;28mstr\u001b[39m], *args: \u001b[38;5;28mstr\u001b[39m,\n\u001b[32m    358\u001b[39m        non_blocking: \u001b[38;5;28mbool\u001b[39m = \u001b[38;5;28;01mFalse\u001b[39;00m):\n\u001b[32m    359\u001b[39m \u001b[38;5;250m    \u001b[39m\u001b[33mr\u001b[39m\u001b[33;03m\"\"\"Performs tensor device conversion, either for all attributes or\u001b[39;00m\n\u001b[32m    360\u001b[39m \u001b[33;03m    only the ones given in :obj:`*args`.\u001b[39;00m\n\u001b[32m    361\u001b[39m \u001b[33;03m    \"\"\"\u001b[39;00m\n\u001b[32m--> \u001b[39m\u001b[32m362\u001b[39m     \u001b[38;5;28;01mreturn\u001b[39;00m \u001b[38;5;28;43mself\u001b[39;49m\u001b[43m.\u001b[49m\u001b[43mapply\u001b[49m\u001b[43m(\u001b[49m\n\u001b[32m    363\u001b[39m \u001b[43m        \u001b[49m\u001b[38;5;28;43;01mlambda\u001b[39;49;00m\u001b[43m \u001b[49m\u001b[43mx\u001b[49m\u001b[43m:\u001b[49m\u001b[43m \u001b[49m\u001b[43mx\u001b[49m\u001b[43m.\u001b[49m\u001b[43mto\u001b[49m\u001b[43m(\u001b[49m\u001b[43mdevice\u001b[49m\u001b[43m=\u001b[49m\u001b[43mdevice\u001b[49m\u001b[43m,\u001b[49m\u001b[43m \u001b[49m\u001b[43mnon_blocking\u001b[49m\u001b[43m=\u001b[49m\u001b[43mnon_blocking\u001b[49m\u001b[43m)\u001b[49m\u001b[43m,\u001b[49m\u001b[43m \u001b[49m\u001b[43m*\u001b[49m\u001b[43margs\u001b[49m\u001b[43m)\u001b[49m\n",
      "\u001b[36mFile \u001b[39m\u001b[32m~/dev/smiles_project/.venv/lib/python3.13/site-packages/torch_geometric/data/data.py:342\u001b[39m, in \u001b[36mBaseData.apply\u001b[39m\u001b[34m(self, func, *args)\u001b[39m\n\u001b[32m    338\u001b[39m \u001b[38;5;250m\u001b[39m\u001b[33mr\u001b[39m\u001b[33;03m\"\"\"Applies the function :obj:`func`, either to all attributes or only\u001b[39;00m\n\u001b[32m    339\u001b[39m \u001b[33;03mthe ones given in :obj:`*args`.\u001b[39;00m\n\u001b[32m    340\u001b[39m \u001b[33;03m\"\"\"\u001b[39;00m\n\u001b[32m    341\u001b[39m \u001b[38;5;28;01mfor\u001b[39;00m store \u001b[38;5;129;01min\u001b[39;00m \u001b[38;5;28mself\u001b[39m.stores:\n\u001b[32m--> \u001b[39m\u001b[32m342\u001b[39m     \u001b[43mstore\u001b[49m\u001b[43m.\u001b[49m\u001b[43mapply\u001b[49m\u001b[43m(\u001b[49m\u001b[43mfunc\u001b[49m\u001b[43m,\u001b[49m\u001b[43m \u001b[49m\u001b[43m*\u001b[49m\u001b[43margs\u001b[49m\u001b[43m)\u001b[49m\n\u001b[32m    343\u001b[39m \u001b[38;5;28;01mreturn\u001b[39;00m \u001b[38;5;28mself\u001b[39m\n",
      "\u001b[36mFile \u001b[39m\u001b[32m~/dev/smiles_project/.venv/lib/python3.13/site-packages/torch_geometric/data/storage.py:201\u001b[39m, in \u001b[36mBaseStorage.apply\u001b[39m\u001b[34m(self, func, *args)\u001b[39m\n\u001b[32m    197\u001b[39m \u001b[38;5;250m\u001b[39m\u001b[33mr\u001b[39m\u001b[33;03m\"\"\"Applies the function :obj:`func`, either to all attributes or only\u001b[39;00m\n\u001b[32m    198\u001b[39m \u001b[33;03mthe ones given in :obj:`*args`.\u001b[39;00m\n\u001b[32m    199\u001b[39m \u001b[33;03m\"\"\"\u001b[39;00m\n\u001b[32m    200\u001b[39m \u001b[38;5;28;01mfor\u001b[39;00m key, value \u001b[38;5;129;01min\u001b[39;00m \u001b[38;5;28mself\u001b[39m.items(*args):\n\u001b[32m--> \u001b[39m\u001b[32m201\u001b[39m     \u001b[38;5;28mself\u001b[39m[key] = \u001b[43mrecursive_apply\u001b[49m\u001b[43m(\u001b[49m\u001b[43mvalue\u001b[49m\u001b[43m,\u001b[49m\u001b[43m \u001b[49m\u001b[43mfunc\u001b[49m\u001b[43m)\u001b[49m\n\u001b[32m    202\u001b[39m \u001b[38;5;28;01mreturn\u001b[39;00m \u001b[38;5;28mself\u001b[39m\n",
      "\u001b[36mFile \u001b[39m\u001b[32m~/dev/smiles_project/.venv/lib/python3.13/site-packages/torch_geometric/data/storage.py:897\u001b[39m, in \u001b[36mrecursive_apply\u001b[39m\u001b[34m(data, func)\u001b[39m\n\u001b[32m    895\u001b[39m \u001b[38;5;28;01mdef\u001b[39;00m\u001b[38;5;250m \u001b[39m\u001b[34mrecursive_apply\u001b[39m(data: Any, func: Callable) -> Any:\n\u001b[32m    896\u001b[39m     \u001b[38;5;28;01mif\u001b[39;00m \u001b[38;5;28misinstance\u001b[39m(data, Tensor):\n\u001b[32m--> \u001b[39m\u001b[32m897\u001b[39m         \u001b[38;5;28;01mreturn\u001b[39;00m \u001b[43mfunc\u001b[49m\u001b[43m(\u001b[49m\u001b[43mdata\u001b[49m\u001b[43m)\u001b[49m\n\u001b[32m    898\u001b[39m     \u001b[38;5;28;01melif\u001b[39;00m \u001b[38;5;28misinstance\u001b[39m(data, torch.nn.utils.rnn.PackedSequence):\n\u001b[32m    899\u001b[39m         \u001b[38;5;28;01mreturn\u001b[39;00m func(data)\n",
      "\u001b[36mFile \u001b[39m\u001b[32m~/dev/smiles_project/.venv/lib/python3.13/site-packages/torch_geometric/data/data.py:363\u001b[39m, in \u001b[36mBaseData.to.<locals>.<lambda>\u001b[39m\u001b[34m(x)\u001b[39m\n\u001b[32m    357\u001b[39m \u001b[38;5;28;01mdef\u001b[39;00m\u001b[38;5;250m \u001b[39m\u001b[34mto\u001b[39m(\u001b[38;5;28mself\u001b[39m, device: Union[\u001b[38;5;28mint\u001b[39m, \u001b[38;5;28mstr\u001b[39m], *args: \u001b[38;5;28mstr\u001b[39m,\n\u001b[32m    358\u001b[39m        non_blocking: \u001b[38;5;28mbool\u001b[39m = \u001b[38;5;28;01mFalse\u001b[39;00m):\n\u001b[32m    359\u001b[39m \u001b[38;5;250m    \u001b[39m\u001b[33mr\u001b[39m\u001b[33;03m\"\"\"Performs tensor device conversion, either for all attributes or\u001b[39;00m\n\u001b[32m    360\u001b[39m \u001b[33;03m    only the ones given in :obj:`*args`.\u001b[39;00m\n\u001b[32m    361\u001b[39m \u001b[33;03m    \"\"\"\u001b[39;00m\n\u001b[32m    362\u001b[39m     \u001b[38;5;28;01mreturn\u001b[39;00m \u001b[38;5;28mself\u001b[39m.apply(\n\u001b[32m--> \u001b[39m\u001b[32m363\u001b[39m         \u001b[38;5;28;01mlambda\u001b[39;00m x: \u001b[43mx\u001b[49m\u001b[43m.\u001b[49m\u001b[43mto\u001b[49m\u001b[43m(\u001b[49m\u001b[43mdevice\u001b[49m\u001b[43m=\u001b[49m\u001b[43mdevice\u001b[49m\u001b[43m,\u001b[49m\u001b[43m \u001b[49m\u001b[43mnon_blocking\u001b[49m\u001b[43m=\u001b[49m\u001b[43mnon_blocking\u001b[49m\u001b[43m)\u001b[49m, *args)\n",
      "\u001b[31mKeyboardInterrupt\u001b[39m: "
     ]
    }
   ],
   "source": [
    "run_experiments(datasets, all_data)"
   ]
  },
  {
   "cell_type": "code",
   "execution_count": null,
   "id": "54b4c84f",
   "metadata": {},
   "outputs": [],
   "source": []
  }
 ],
 "metadata": {
  "kernelspec": {
   "display_name": "smiles_project",
   "language": "python",
   "name": "python3"
  },
  "language_info": {
   "codemirror_mode": {
    "name": "ipython",
    "version": 3
   },
   "file_extension": ".py",
   "mimetype": "text/x-python",
   "name": "python",
   "nbconvert_exporter": "python",
   "pygments_lexer": "ipython3",
   "version": "3.13.4"
  }
 },
 "nbformat": 4,
 "nbformat_minor": 5
}
